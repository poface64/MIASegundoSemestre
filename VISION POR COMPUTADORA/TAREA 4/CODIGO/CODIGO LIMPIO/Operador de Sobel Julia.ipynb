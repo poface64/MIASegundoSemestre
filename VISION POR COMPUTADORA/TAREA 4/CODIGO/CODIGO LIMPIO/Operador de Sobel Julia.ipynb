{
 "cells": [
  {
   "cell_type": "markdown",
   "id": "a7855312-faef-4448-a5e9-785732a363bb",
   "metadata": {},
   "source": [
    "# Función principal"
   ]
  },
  {
   "cell_type": "code",
   "execution_count": 3,
   "id": "c16927ff-8bb1-4c28-9c9d-3df2db44138d",
   "metadata": {},
   "outputs": [
    {
     "data": {
      "text/plain": [
       "imsobel (generic function with 1 method)"
      ]
     },
     "execution_count": 3,
     "metadata": {},
     "output_type": "execute_result"
    }
   ],
   "source": [
    "#### Paquetes necesarios ####\n",
    "using Plots\n",
    "using Images\n",
    "using StatsBase\n",
    "# Función del gradiente de SOBEL #\n",
    "function imsobel(img_ruta::String)\n",
    "    # Cargar la imagen\n",
    "    img = load(img_ruta)\n",
    "    # Convertir la imagen a escala de grises y multiplicar por 255\n",
    "    img1 = Gray.(img) .* 255\n",
    "   # Generar la matriz que detecta en Gx\n",
    "    gxk = [-1 0 1; -2 0 2; -1 0 1]\n",
    "    # Generar la matriz que detecta en Gy\n",
    "    gyk = gxk' # Usamos la transpuesta de gxk\n",
    "    # Obtener las dimensiones de la imagen y el kernel\n",
    "    imdim = size(img1)\n",
    "    kerdim = size(gxk)\n",
    "    # Calcular las dimensiones de la imagen resultante\n",
    "    rf = imdim[1] - kerdim[1] + 1\n",
    "    rc = imdim[2] - kerdim[2] + 1\n",
    "    # Crear un array para guardar los resultados\n",
    "    resultado = zeros(rf, rc, 4)\n",
    "    # Aplicar la convolución\n",
    "    for i in 1:rf\n",
    "        for j in 1:rc\n",
    "            # Extraer una submatriz de nxn de la imagen\n",
    "            subim = img1[i:i+kerdim[1]-1, j:j+kerdim[2]-1]\n",
    "\n",
    "            # Aplicar la convolución sobre GX\n",
    "            resultado[i, j, 1] = sum(subim .* gxk)\n",
    "\n",
    "            # Aplicar la convolución sobre GY\n",
    "            resultado[i, j, 2] = sum(subim .* gyk)\n",
    "\n",
    "            # Calcular el operador de Sobel\n",
    "            sobel = sqrt(resultado[i, j, 1]^2 + resultado[i, j, 2]^2)\n",
    "\n",
    "            # Guardar el valor del gradiente\n",
    "            resultado[i, j, 3] = sobel\n",
    "        end\n",
    "    end\n",
    "    #### Reportar las salidas ####\n",
    "    # Reportar Gx\n",
    "    rgx = resultado[:, :, 1]\n",
    "    # Estandarizar\n",
    "    minr = minimum(rgx)\n",
    "    maxr = maximum(rgx)\n",
    "    p1 = (rgx .- minr) ./ (maxr - minr)\n",
    "    q1 = 1 .- p1\n",
    "    # Reportar Gy\n",
    "    rgy = resultado[:, :, 2]\n",
    "    # Estandarizar\n",
    "    minr = minimum(rgy)\n",
    "    maxr = maximum(rgy)\n",
    "    p2 = (rgy .- minr) ./ (maxr - minr)\n",
    "    q2 = 1 .- p2\n",
    "    # Reportar Sobel\n",
    "    rg = resultado[:, :, 3]\n",
    "    # Estandarizar\n",
    "    minr = minimum(rg)\n",
    "    maxr = maximum(rg)\n",
    "    p3 = (rg .- minr) ./ (maxr - minr)\n",
    "    q3 = 1 .- p3\n",
    "    # Operador de la dirección\n",
    "    resultado[:, :, 4] = atan.(resultado[:, :, 2], resultado[:, :, 1])\n",
    "    q4 = resultado[:, :, 4] \n",
    "    # Normalizar el ángulo a [0, 1]\n",
    "    q4 = (q4 .+ pi) ./ (2 * pi)\n",
    "    # Exportar salidas\n",
    "    return Gray.(q1), Gray.(q2), Gray.(q3), Gray.(q4)\n",
    "end\n",
    "\n"
   ]
  },
  {
   "cell_type": "markdown",
   "id": "8233efa5-aeca-4ec9-be8d-61bc1760845f",
   "metadata": {},
   "source": [
    "# Obtener los resultados "
   ]
  },
  {
   "cell_type": "code",
   "execution_count": 4,
   "id": "4becca7b-a08d-43c3-80f4-555206cc1522",
   "metadata": {},
   "outputs": [
    {
     "data": {
      "text/plain": [
       "(Gray{Float64}[0.5294117647058824 0.5294117647058824 … 0.5294117647058824 0.5294117647058824; 0.5294117647058824 0.5294117647058824 … 0.5294117647058824 0.5294117647058824; … ; 0.5294117647058824 0.5294117647058824 … 0.5294117647058824 0.5294117647058824; 0.5294117647058824 0.5294117647058824 … 0.5294117647058824 0.5294117647058824], Gray{Float64}[0.40378289473684215 0.40378289473684215 … 0.40378289473684215 0.40378289473684215; 0.40378289473684215 0.40378289473684215 … 0.40378289473684215 0.40378289473684215; … ; 0.40378289473684215 0.40378289473684215 … 0.40378289473684215 0.40378289473684215; 0.40378289473684215 0.40378289473684215 … 0.40378289473684215 0.40378289473684215], Gray{Float64}[1.0 1.0 … 1.0 1.0; 1.0 1.0 … 1.0 1.0; … ; 1.0 1.0 … 1.0 1.0; 1.0 1.0 … 1.0 1.0], Gray{Float64}[0.5 0.5 … 0.5 0.5; 0.5 0.5 … 0.5 0.5; … ; 0.5 0.5 … 0.5 0.5; 0.5 0.5 … 0.5 0.5])"
      ]
     },
     "execution_count": 4,
     "metadata": {},
     "output_type": "execute_result"
    }
   ],
   "source": [
    "# Ejemplo de uso\n",
    "ruta = \"CM1.jpg\"\n",
    "q1, q2, q3, q4 = imsobel(ruta)\n"
   ]
  },
  {
   "cell_type": "code",
   "execution_count": null,
   "id": "429815d4-64e8-4cd8-843e-2da8405aa469",
   "metadata": {},
   "outputs": [],
   "source": []
  },
  {
   "cell_type": "code",
   "execution_count": 5,
   "id": "e1e705dd-7af8-44c3-9027-7a85ccdb31f6",
   "metadata": {},
   "outputs": [],
   "source": [
    "# Puedes guardar las imágenes o mostrarlas usando imshow\n",
    "save(\"q11.png\", q1)\n",
    "save(\"q21.png\", q2)\n",
    "save(\"q31.png\", q3)\n",
    "save(\"q41.png\", q4)"
   ]
  }
 ],
 "metadata": {
  "kernelspec": {
   "display_name": "Julia 1.11.4",
   "language": "julia",
   "name": "julia-1.11"
  },
  "language_info": {
   "file_extension": ".jl",
   "mimetype": "application/julia",
   "name": "julia",
   "version": "1.11.4"
  }
 },
 "nbformat": 4,
 "nbformat_minor": 5
}
